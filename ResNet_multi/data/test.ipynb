{
 "cells": [
  {
   "cell_type": "code",
   "execution_count": 2,
   "metadata": {},
   "outputs": [
    {
     "name": "stdout",
     "output_type": "stream",
     "text": [
      "Duplicate IDs in X-ray Labels:\n",
      "Series([], Name: count, dtype: int64)\n"
     ]
    }
   ],
   "source": [
    "import pandas as pd\n",
    "\n",
    "# Load X-ray label file\n",
    "xray_labels = pd.read_excel(\"/Users/jiangwengyao/Desktop/Multi_Task/ResNet_multi/data/label/OAI_Xray.xlsx\")  # Update with actual file path\n",
    "\n",
    "# Check if any ID appears more than once\n",
    "duplicate_ids = xray_labels[\"ID\"].value_counts()\n",
    "duplicates = duplicate_ids[duplicate_ids > 1]\n",
    "\n",
    "print(\"Duplicate IDs in X-ray Labels:\")\n",
    "print(duplicates)\n"
   ]
  }
 ],
 "metadata": {
  "kernelspec": {
   "display_name": "Python 3",
   "language": "python",
   "name": "python3"
  },
  "language_info": {
   "codemirror_mode": {
    "name": "ipython",
    "version": 3
   },
   "file_extension": ".py",
   "mimetype": "text/x-python",
   "name": "python",
   "nbconvert_exporter": "python",
   "pygments_lexer": "ipython3",
   "version": "3.10.4"
  }
 },
 "nbformat": 4,
 "nbformat_minor": 2
}
